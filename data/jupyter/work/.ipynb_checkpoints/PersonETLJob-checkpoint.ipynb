{
 "cells": [
  {
   "cell_type": "code",
   "execution_count": 2,
   "metadata": {},
   "outputs": [],
   "source": [
    "import os\n",
    "import re\n",
    "from pyspark.sql import SparkSession\n",
    "from pyspark.sql.functions import to_timestamp\n",
    "\n",
    "from pyspark.sql.types import StructType, StructField, StringType, IntegerType\n",
    "os.environ['PYSPARK_SUBMIT_ARGS'] = '--driver-class-path /home/marcelo/libs/mysql-connector-java-8.0.19.jar --jars /home/marcelo/libs/mysql-connector-java-8.0.19.jar pyspark-shell'\n",
    "\n",
    "import findspark\n",
    "\n",
    "findspark.add_packages('mysql:mysql-connector-java:8.0.19')"
   ]
  },
  {
   "cell_type": "code",
   "execution_count": 3,
   "metadata": {},
   "outputs": [],
   "source": [
    "spark = SparkSession \\\n",
    "    .builder \\\n",
    "    .appName('POC ETL') \\\n",
    "    .master(\"local[*]\") \\\n",
    "    .getOrCreate()"
   ]
  },
  {
   "cell_type": "code",
   "execution_count": 6,
   "metadata": {},
   "outputs": [
    {
     "data": {
      "text/plain": [
       "DataFrame[id: string, lastname: string, firstname: string, phones: string]"
      ]
     },
     "execution_count": 6,
     "metadata": {},
     "output_type": "execute_result"
    }
   ],
   "source": [
    "df = spark.read.option(\"header\", True).format(\"csv\").load(\"/home/marcelo/data/person-out.csv\")\n",
    "df"
   ]
  },
  {
   "cell_type": "markdown",
   "metadata": {},
   "source": [
    "### Person ETL"
   ]
  },
  {
   "cell_type": "code",
   "execution_count": 14,
   "metadata": {},
   "outputs": [
    {
     "data": {
      "text/plain": [
       "DataFrame[id: string, first_name: string, last_name: string]"
      ]
     },
     "execution_count": 14,
     "metadata": {},
     "output_type": "execute_result"
    }
   ],
   "source": [
    "person_df = df.select([\"id\", \"firstname\", \"lastname\"]).withColumnRenamed(\"firstname\", \"first_name\").withColumnRenamed(\"lastname\", \"last_name\")\n",
    "person_df"
   ]
  },
  {
   "cell_type": "code",
   "execution_count": 15,
   "metadata": {},
   "outputs": [],
   "source": [
    "person_df.write.format('jdbc').options(\n",
    "      url='jdbc:mysql://mysql:3306/mydatabase',\n",
    "      driver='com.mysql.jdbc.Driver',\n",
    "      dbtable='person',\n",
    "      user='mama',\n",
    "      password='mama').mode('append').save()"
   ]
  },
  {
   "cell_type": "markdown",
   "metadata": {},
   "source": [
    "### Phone ETL"
   ]
  },
  {
   "cell_type": "code",
   "execution_count": 16,
   "metadata": {},
   "outputs": [],
   "source": [
    "# Mapper String -> Json Object -> Attributes Json\n",
    "import json\n",
    "def parse_phone_json(array_str):\n",
    "    \"\"\" \n",
    "    Transform String into Json and extract id and Phone Number\n",
    "    input: array_str: json of phones\n",
    "    \"\"\"\n",
    "    # Include commas for UDT cassandra\n",
    "    json_str = re.sub(r'([a-zA-Z0-9_]+)\\s*:\\s*([^,}]+)?', '\"\\\\1\": \"\\\\2\"', array_str)\n",
    "    # Replace double commas\n",
    "    json_str = re.sub(r'(\\\"\\')|(\\'\\\")', '\"', json_str)    \n",
    "    json_obj = json.loads(json_str)\n",
    "    for item in json_obj:\n",
    "        # Extracts id and phone number\n",
    "        yield item[\"id\"], int(item[\"phone_number\"])\n",
    "\n",
    "        \n",
    "# Define the schema\n",
    "from pyspark.sql.types import ArrayType, IntegerType, StringType, StructType, StructField\n",
    "phone_json_schema = ArrayType(StructType([StructField('id', StringType(), nullable=False), StructField('phone_number', IntegerType(), nullable=False)]))\n",
    "\n",
    "# Define udf\n",
    "from pyspark.sql.functions import udf\n",
    "udf_phone_parse_json = udf(lambda phones: parse_phone_json(phones), phone_json_schema)"
   ]
  },
  {
   "cell_type": "code",
   "execution_count": 17,
   "metadata": {},
   "outputs": [
    {
     "data": {
      "text/plain": [
       "DataFrame[id: string, phones: string]"
      ]
     },
     "execution_count": 17,
     "metadata": {},
     "output_type": "execute_result"
    }
   ],
   "source": [
    "phones_df = df.select([\"id\", \"phones\"])\n",
    "phones_df"
   ]
  },
  {
   "cell_type": "code",
   "execution_count": 18,
   "metadata": {},
   "outputs": [
    {
     "name": "stdout",
     "output_type": "stream",
     "text": [
      "DataFrame[id: string, phones: array<struct<id:string,phone_number:int>>]\n"
     ]
    }
   ],
   "source": [
    "df_json_phones = phones_df.withColumn(\"phones\", udf_phone_parse_json('phones'))\n",
    "print(df_json_phones)"
   ]
  },
  {
   "cell_type": "code",
   "execution_count": 19,
   "metadata": {},
   "outputs": [],
   "source": [
    "only_phones_df = df_json_phones.select([\"id\", \"phones\"])"
   ]
  },
  {
   "cell_type": "code",
   "execution_count": 20,
   "metadata": {},
   "outputs": [
    {
     "name": "stdout",
     "output_type": "stream",
     "text": [
      "+--------------------+--------------------+\n",
      "|                  id|              phones|\n",
      "+--------------------+--------------------+\n",
      "|4b544bb1-5596-4d9...|[[4b544bb1-5596-4...|\n",
      "|95534b58-674c-491...|[[95534b58-674c-4...|\n",
      "|0154863c-33e0-431...|[[0154863c-33e0-4...|\n",
      "|8387a1ad-1ef7-48f...|[[8387a1ad-1ef7-4...|\n",
      "|c11daf2b-e0c0-4b0...|[[c11daf2b-e0c0-4...|\n",
      "|59135d5a-d674-473...|[[59135d5a-d674-4...|\n",
      "|ded9487d-dbe3-41f...|[[ded9487d-dbe3-4...|\n",
      "|9af46608-0a11-46d...|[[9af46608-0a11-4...|\n",
      "|a764efc6-4636-4e8...|[[a764efc6-4636-4...|\n",
      "|7fab3692-a4e1-405...|[[7fab3692-a4e1-4...|\n",
      "|e165548f-bdb6-419...|[[e165548f-bdb6-4...|\n",
      "|4416f2e9-b0e3-4cf...|[[4416f2e9-b0e3-4...|\n",
      "|d4ab95f2-d8d6-4f9...|[[d4ab95f2-d8d6-4...|\n",
      "|5739b31a-d300-43d...|[[5739b31a-d300-4...|\n",
      "|da0fa305-896a-4af...|[[da0fa305-896a-4...|\n",
      "|ebe2b887-fec7-498...|[[ebe2b887-fec7-4...|\n",
      "|52b0f3a4-53e4-4c3...|[[52b0f3a4-53e4-4...|\n",
      "|42ace0db-332b-4f7...|[[42ace0db-332b-4...|\n",
      "|bf297ff3-cb52-46e...|[[bf297ff3-cb52-4...|\n",
      "|ea35f044-bd4a-490...|[[ea35f044-bd4a-4...|\n",
      "+--------------------+--------------------+\n",
      "only showing top 20 rows\n",
      "\n"
     ]
    }
   ],
   "source": [
    "only_phones_df.show()"
   ]
  },
  {
   "cell_type": "code",
   "execution_count": 22,
   "metadata": {},
   "outputs": [
    {
     "name": "stdout",
     "output_type": "stream",
     "text": [
      "root\n",
      " |-- id: string (nullable = true)\n",
      " |-- pos: integer (nullable = false)\n",
      " |-- col: struct (nullable = true)\n",
      " |    |-- id: string (nullable = false)\n",
      " |    |-- phone_number: integer (nullable = false)\n",
      "\n",
      "+--------------------+---+--------------------+\n",
      "|                  id|pos|                 col|\n",
      "+--------------------+---+--------------------+\n",
      "|4b544bb1-5596-4d9...|  0|[4b544bb1-5596-4d...|\n",
      "|4b544bb1-5596-4d9...|  1|[035c8240-3b2c-40...|\n",
      "|95534b58-674c-491...|  0|[95534b58-674c-49...|\n",
      "|95534b58-674c-491...|  1|[fee0eb4f-0701-4c...|\n",
      "|0154863c-33e0-431...|  0|[0154863c-33e0-43...|\n",
      "|0154863c-33e0-431...|  1|[486ac361-7216-40...|\n",
      "|8387a1ad-1ef7-48f...|  0|[8387a1ad-1ef7-48...|\n",
      "|8387a1ad-1ef7-48f...|  1|[e1778f30-ef6f-47...|\n",
      "|c11daf2b-e0c0-4b0...|  0|[c11daf2b-e0c0-4b...|\n",
      "|c11daf2b-e0c0-4b0...|  1|[e55f0adf-ca56-4b...|\n",
      "|59135d5a-d674-473...|  0|[59135d5a-d674-47...|\n",
      "|59135d5a-d674-473...|  1|[67a058b8-4f84-41...|\n",
      "|ded9487d-dbe3-41f...|  0|[ded9487d-dbe3-41...|\n",
      "|ded9487d-dbe3-41f...|  1|[01c75caa-7aac-48...|\n",
      "|9af46608-0a11-46d...|  0|[9af46608-0a11-46...|\n",
      "|9af46608-0a11-46d...|  1|[2d140271-081c-45...|\n",
      "|a764efc6-4636-4e8...|  0|[a764efc6-4636-4e...|\n",
      "|a764efc6-4636-4e8...|  1|[701c5984-a689-4a...|\n",
      "|7fab3692-a4e1-405...|  0|[7fab3692-a4e1-40...|\n",
      "|7fab3692-a4e1-405...|  1|[fbff866a-492b-4d...|\n",
      "+--------------------+---+--------------------+\n",
      "only showing top 20 rows\n",
      "\n"
     ]
    }
   ],
   "source": [
    "from pyspark.sql.functions import explode, explode_outer, posexplode\n",
    "exploded_phones = only_phones_df.select(only_phones_df.id, posexplode(only_phones_df.phones))\n",
    "exploded_phones.printSchema()\n",
    "exploded_phones.show()"
   ]
  },
  {
   "cell_type": "code",
   "execution_count": 23,
   "metadata": {},
   "outputs": [
    {
     "name": "stdout",
     "output_type": "stream",
     "text": [
      "+--------------------+--------------------+------------+\n",
      "|           person_id|                  id|phone_number|\n",
      "+--------------------+--------------------+------------+\n",
      "|4b544bb1-5596-4d9...|4b544bb1-5596-4d9...|      123456|\n",
      "|4b544bb1-5596-4d9...|035c8240-3b2c-40b...|      123456|\n",
      "|95534b58-674c-491...|95534b58-674c-491...|      123456|\n",
      "|95534b58-674c-491...|fee0eb4f-0701-4c3...|      123456|\n",
      "|0154863c-33e0-431...|0154863c-33e0-431...|      123456|\n",
      "|0154863c-33e0-431...|486ac361-7216-40a...|      123456|\n",
      "|8387a1ad-1ef7-48f...|8387a1ad-1ef7-48f...|      123456|\n",
      "|8387a1ad-1ef7-48f...|e1778f30-ef6f-47e...|      123456|\n",
      "|c11daf2b-e0c0-4b0...|c11daf2b-e0c0-4b0...|      123456|\n",
      "|c11daf2b-e0c0-4b0...|e55f0adf-ca56-4b0...|      123456|\n",
      "|59135d5a-d674-473...|59135d5a-d674-473...|      123456|\n",
      "|59135d5a-d674-473...|67a058b8-4f84-415...|      123456|\n",
      "|ded9487d-dbe3-41f...|ded9487d-dbe3-41f...|      123456|\n",
      "|ded9487d-dbe3-41f...|01c75caa-7aac-481...|      123456|\n",
      "|9af46608-0a11-46d...|9af46608-0a11-46d...|      123456|\n",
      "|9af46608-0a11-46d...|2d140271-081c-453...|      123456|\n",
      "|a764efc6-4636-4e8...|a764efc6-4636-4e8...|      123456|\n",
      "|a764efc6-4636-4e8...|701c5984-a689-4a5...|      123456|\n",
      "|7fab3692-a4e1-405...|7fab3692-a4e1-405...|      123456|\n",
      "|7fab3692-a4e1-405...|fbff866a-492b-4db...|      123456|\n",
      "+--------------------+--------------------+------------+\n",
      "only showing top 20 rows\n",
      "\n"
     ]
    }
   ],
   "source": [
    "exploded_phones = exploded_phones.withColumnRenamed(\"id\", \"person_id\").withColumnRenamed(\"col\", \"phone\")\n",
    "phone_df = exploded_phones.select([\"person_id\", \"phone.id\", \"phone.phone_number\"])\n",
    "phone_df.show()"
   ]
  },
  {
   "cell_type": "code",
   "execution_count": 24,
   "metadata": {},
   "outputs": [],
   "source": [
    "phone_df.write.format('jdbc').options(\n",
    "      url='jdbc:mysql://mysql:3306/mydatabase',\n",
    "      driver='com.mysql.jdbc.Driver',\n",
    "      dbtable='phone',\n",
    "      user='mama',\n",
    "      password='mama').mode('append').save()"
   ]
  },
  {
   "cell_type": "code",
   "execution_count": null,
   "metadata": {},
   "outputs": [],
   "source": []
  },
  {
   "cell_type": "code",
   "execution_count": null,
   "metadata": {},
   "outputs": [],
   "source": []
  }
 ],
 "metadata": {
  "kernelspec": {
   "display_name": "Python 3",
   "language": "python",
   "name": "python3"
  },
  "language_info": {
   "codemirror_mode": {
    "name": "ipython",
    "version": 3
   },
   "file_extension": ".py",
   "mimetype": "text/x-python",
   "name": "python",
   "nbconvert_exporter": "python",
   "pygments_lexer": "ipython3",
   "version": "3.8.6"
  }
 },
 "nbformat": 4,
 "nbformat_minor": 4
}
